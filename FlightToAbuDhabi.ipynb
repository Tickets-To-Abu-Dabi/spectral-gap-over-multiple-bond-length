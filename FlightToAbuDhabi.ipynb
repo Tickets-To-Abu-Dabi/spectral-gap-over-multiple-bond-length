{
  "cells": [
    {
      "cell_type": "markdown",
      "metadata": {
        "id": "PBUoeYmB_yRs"
      },
      "source": [
        "# Team _Flight to Abu Dhabi_\n",
        "## SC Quantath0n v1\n",
        "\n",
        "### Getting started\n",
        "\n",
        "We'll start by installing the required packages"
      ]
    },
    {
      "cell_type": "code",
      "execution_count": 3,
      "metadata": {
        "colab": {
          "base_uri": "https://localhost:8080/"
        },
        "id": "d59nb3im-dtM",
        "outputId": "0245ec8d-b5db-41a0-95a0-a3af5202952f"
      },
      "outputs": [
        {
          "name": "stdout",
          "output_type": "stream",
          "text": [
            "Collecting pennylane\n",
            "  Downloading PennyLane-0.38.0-py3-none-any.whl.metadata (9.3 kB)\n",
            "Requirement already satisfied: jax in /usr/local/lib/python3.10/dist-packages (0.4.33)\n",
            "Requirement already satisfied: optax in /usr/local/lib/python3.10/dist-packages (0.2.3)\n",
            "Requirement already satisfied: aiohttp in /usr/local/lib/python3.10/dist-packages (3.10.9)\n",
            "Requirement already satisfied: fsspec in /usr/local/lib/python3.10/dist-packages (2024.6.1)\n",
            "Requirement already satisfied: h5py in /usr/local/lib/python3.10/dist-packages (3.11.0)\n",
            "Requirement already satisfied: numpy<2.0 in /usr/local/lib/python3.10/dist-packages (from pennylane) (1.26.4)\n",
            "Requirement already satisfied: scipy in /usr/local/lib/python3.10/dist-packages (from pennylane) (1.13.1)\n",
            "Requirement already satisfied: networkx in /usr/local/lib/python3.10/dist-packages (from pennylane) (3.3)\n",
            "Collecting rustworkx>=0.14.0 (from pennylane)\n",
            "  Downloading rustworkx-0.15.1-cp38-abi3-manylinux_2_17_x86_64.manylinux2014_x86_64.whl.metadata (9.9 kB)\n",
            "Requirement already satisfied: autograd in /usr/local/lib/python3.10/dist-packages (from pennylane) (1.7.0)\n",
            "Requirement already satisfied: toml in /usr/local/lib/python3.10/dist-packages (from pennylane) (0.10.2)\n",
            "Collecting appdirs (from pennylane)\n",
            "  Downloading appdirs-1.4.4-py2.py3-none-any.whl.metadata (9.0 kB)\n",
            "Collecting autoray>=0.6.11 (from pennylane)\n",
            "  Downloading autoray-0.6.12-py3-none-any.whl.metadata (5.7 kB)\n",
            "Requirement already satisfied: cachetools in /usr/local/lib/python3.10/dist-packages (from pennylane) (5.5.0)\n",
            "Collecting pennylane-lightning>=0.38 (from pennylane)\n",
            "  Downloading PennyLane_Lightning-0.38.0-cp310-cp310-manylinux_2_28_x86_64.whl.metadata (26 kB)\n",
            "Requirement already satisfied: requests in /usr/local/lib/python3.10/dist-packages (from pennylane) (2.32.3)\n",
            "Requirement already satisfied: typing-extensions in /usr/local/lib/python3.10/dist-packages (from pennylane) (4.12.2)\n",
            "Requirement already satisfied: packaging in /usr/local/lib/python3.10/dist-packages (from pennylane) (24.1)\n",
            "Requirement already satisfied: jaxlib<=0.4.33,>=0.4.33 in /usr/local/lib/python3.10/dist-packages (from jax) (0.4.33)\n",
            "Requirement already satisfied: ml-dtypes>=0.2.0 in /usr/local/lib/python3.10/dist-packages (from jax) (0.4.1)\n",
            "Requirement already satisfied: opt-einsum in /usr/local/lib/python3.10/dist-packages (from jax) (3.4.0)\n",
            "Requirement already satisfied: absl-py>=0.7.1 in /usr/local/lib/python3.10/dist-packages (from optax) (1.4.0)\n",
            "Requirement already satisfied: chex>=0.1.86 in /usr/local/lib/python3.10/dist-packages (from optax) (0.1.87)\n",
            "Requirement already satisfied: etils[epy] in /usr/local/lib/python3.10/dist-packages (from optax) (1.9.4)\n",
            "Requirement already satisfied: aiohappyeyeballs>=2.3.0 in /usr/local/lib/python3.10/dist-packages (from aiohttp) (2.4.3)\n",
            "Requirement already satisfied: aiosignal>=1.1.2 in /usr/local/lib/python3.10/dist-packages (from aiohttp) (1.3.1)\n",
            "Requirement already satisfied: attrs>=17.3.0 in /usr/local/lib/python3.10/dist-packages (from aiohttp) (24.2.0)\n",
            "Requirement already satisfied: frozenlist>=1.1.1 in /usr/local/lib/python3.10/dist-packages (from aiohttp) (1.4.1)\n",
            "Requirement already satisfied: multidict<7.0,>=4.5 in /usr/local/lib/python3.10/dist-packages (from aiohttp) (6.1.0)\n",
            "Requirement already satisfied: yarl<2.0,>=1.12.0 in /usr/local/lib/python3.10/dist-packages (from aiohttp) (1.13.1)\n",
            "Requirement already satisfied: async-timeout<5.0,>=4.0 in /usr/local/lib/python3.10/dist-packages (from aiohttp) (4.0.3)\n",
            "Requirement already satisfied: toolz>=0.9.0 in /usr/local/lib/python3.10/dist-packages (from chex>=0.1.86->optax) (0.12.1)\n",
            "Requirement already satisfied: idna>=2.0 in /usr/local/lib/python3.10/dist-packages (from yarl<2.0,>=1.12.0->aiohttp) (3.10)\n",
            "Requirement already satisfied: charset-normalizer<4,>=2 in /usr/local/lib/python3.10/dist-packages (from requests->pennylane) (3.3.2)\n",
            "Requirement already satisfied: urllib3<3,>=1.21.1 in /usr/local/lib/python3.10/dist-packages (from requests->pennylane) (2.2.3)\n",
            "Requirement already satisfied: certifi>=2017.4.17 in /usr/local/lib/python3.10/dist-packages (from requests->pennylane) (2024.8.30)\n",
            "Downloading PennyLane-0.38.0-py3-none-any.whl (1.9 MB)\n",
            "\u001b[2K   \u001b[90m━━━━━━━━━━━━━━━━━━━━━━━━━━━━━━━━━━━━━━━━\u001b[0m \u001b[32m1.9/1.9 MB\u001b[0m \u001b[31m23.9 MB/s\u001b[0m eta \u001b[36m0:00:00\u001b[0m\n",
            "\u001b[?25hDownloading autoray-0.6.12-py3-none-any.whl (50 kB)\n",
            "\u001b[2K   \u001b[90m━━━━━━━━━━━━━━━━━━━━━━━━━━━━━━━━━━━━━━━━\u001b[0m \u001b[32m51.0/51.0 kB\u001b[0m \u001b[31m4.1 MB/s\u001b[0m eta \u001b[36m0:00:00\u001b[0m\n",
            "\u001b[?25hDownloading PennyLane_Lightning-0.38.0-cp310-cp310-manylinux_2_28_x86_64.whl (15.3 MB)\n",
            "\u001b[2K   \u001b[90m━━━━━━━━━━━━━━━━━━━━━━━━━━━━━━━━━━━━━━━━\u001b[0m \u001b[32m15.3/15.3 MB\u001b[0m \u001b[31m78.5 MB/s\u001b[0m eta \u001b[36m0:00:00\u001b[0m\n",
            "\u001b[?25hDownloading rustworkx-0.15.1-cp38-abi3-manylinux_2_17_x86_64.manylinux2014_x86_64.whl (2.0 MB)\n",
            "\u001b[2K   \u001b[90m━━━━━━━━━━━━━━━━━━━━━━━━━━━━━━━━━━━━━━━━\u001b[0m \u001b[32m2.0/2.0 MB\u001b[0m \u001b[31m54.6 MB/s\u001b[0m eta \u001b[36m0:00:00\u001b[0m\n",
            "\u001b[?25hDownloading appdirs-1.4.4-py2.py3-none-any.whl (9.6 kB)\n",
            "Installing collected packages: appdirs, rustworkx, autoray, pennylane-lightning, pennylane\n",
            "Successfully installed appdirs-1.4.4 autoray-0.6.12 pennylane-0.38.0 pennylane-lightning-0.38.0 rustworkx-0.15.1\n"
          ]
        }
      ],
      "source": [
        "%pip install pennylane jax optax aiohttp fsspec h5py"
      ]
    },
    {
      "cell_type": "code",
      "execution_count": null,
      "metadata": {
        "id": "2UkEUwJWJ1d7"
      },
      "outputs": [],
      "source": []
    },
    {
      "cell_type": "code",
      "execution_count": null,
      "metadata": {
        "colab": {
          "base_uri": "https://localhost:8080/",
          "height": 384
        },
        "id": "mkOD-Aor_nof",
        "outputId": "135d239e-028a-4497-f670-8a817b44b9aa"
      },
      "outputs": [
        {
          "ename": "ModuleNotFoundError",
          "evalue": "No module named 'langchain_community'",
          "output_type": "error",
          "traceback": [
            "\u001b[0;31m---------------------------------------------------------------------------\u001b[0m",
            "\u001b[0;31mModuleNotFoundError\u001b[0m                       Traceback (most recent call last)",
            "\u001b[0;32m<ipython-input-2-af4010a974ea>\u001b[0m in \u001b[0;36m<cell line: 1>\u001b[0;34m()\u001b[0m\n\u001b[0;32m----> 1\u001b[0;31m \u001b[0;32mfrom\u001b[0m \u001b[0mlangchain_community\u001b[0m\u001b[0;34m.\u001b[0m\u001b[0mchat_models\u001b[0m \u001b[0;32mimport\u001b[0m \u001b[0mChatOllama\u001b[0m\u001b[0;34m\u001b[0m\u001b[0;34m\u001b[0m\u001b[0m\n\u001b[0m\u001b[1;32m      2\u001b[0m \u001b[0;32mfrom\u001b[0m \u001b[0mlangchain_core\u001b[0m\u001b[0;34m.\u001b[0m\u001b[0moutput_parsers\u001b[0m \u001b[0;32mimport\u001b[0m \u001b[0mStrOutputParser\u001b[0m\u001b[0;34m\u001b[0m\u001b[0;34m\u001b[0m\u001b[0m\n\u001b[1;32m      3\u001b[0m \u001b[0;32mfrom\u001b[0m \u001b[0mlangchain_core\u001b[0m\u001b[0;34m.\u001b[0m\u001b[0mprompts\u001b[0m \u001b[0;32mimport\u001b[0m \u001b[0mChatPromptTemplate\u001b[0m\u001b[0;34m\u001b[0m\u001b[0;34m\u001b[0m\u001b[0m\n\u001b[1;32m      4\u001b[0m \u001b[0;32mimport\u001b[0m \u001b[0mxlwings\u001b[0m \u001b[0;32mas\u001b[0m \u001b[0mxw\u001b[0m\u001b[0;34m\u001b[0m\u001b[0;34m\u001b[0m\u001b[0m\n\u001b[1;32m      5\u001b[0m \u001b[0;34m\u001b[0m\u001b[0m\n",
            "\u001b[0;31mModuleNotFoundError\u001b[0m: No module named 'langchain_community'",
            "",
            "\u001b[0;31m---------------------------------------------------------------------------\u001b[0;32m\nNOTE: If your import is failing due to a missing package, you can\nmanually install dependencies using either !pip or !apt.\n\nTo view examples of installing some common dependencies, click the\n\"Open Examples\" button below.\n\u001b[0;31m---------------------------------------------------------------------------\u001b[0m\n"
          ]
        }
      ],
      "source": [
        "from langchain_community.chat_models import ChatOllama# TODO: add import\n",
        "from langchain_core.output_parsers import StrOutputParser\n",
        "from langchain_core.prompts import ChatPromptTemplate\n",
        "import xlwings as xw\n",
        "\n",
        "llm = ChatOllama(\n",
        "    model=\"llama3.2:1b \",\n",
        "    keep_alive=-1,\n",
        "    temperature=0,\n",
        "    max_new_tokens=-1\n",
        ")\n",
        "\n",
        "prompt = ChatPromptTemplate.from_template(\"\"\"You are an expert in molecular data classification. Read the {input_data} based on the dataset that contains information about various molecules, including properties like molecular weight, bond angles, atomic composition, and other relevant characteristics. Your task is to classify each molecule based on its chemical structure and properties into one of several predefined categories, such as organic, inorganic, polar, non-polar, or based on a specific class of compounds (e.g., alcohols, amines, alkanes).\n",
        "\n",
        "Please ensure the following when classifying:\n",
        "\n",
        "Consider the molecular weight and structure.\n",
        "Analyze the atomic composition and bond types.\n",
        "Use the provided data points to determine any specific functional groups.\n",
        "Follow the rules of IUPAC nomenclature when relevant.\n",
        "Provide a brief explanation of how you arrived at the classification.\n",
        "Input Format: The input will be a list of molecular properties such as:\n",
        "\n",
        "Molecular weight\n",
        "Bond angles\n",
        "Atomic composition (e.g., C, H, O, N, etc.)\n",
        "Chemical structure (if applicable)\n",
        "Any additional characteristics (e.g., boiling point, solubility)\n",
        "\n",
        "Molecule 1:\n",
        "- Molecular weight: 58.08 g/mol\n",
        "- Bond angles: 109.5°\n",
        "- Atomic composition: C3H8O\n",
        "- Solubility: High in water\n",
        "\n",
        "Molecule 2:\n",
        "- Molecular weight: 44.01 g/mol\n",
        "- Bond angles: 180°\n",
        "- Atomic composition: CO2\n",
        "\"\"\")\n",
        "\n",
        "chain = prompt | llm | StrOutputParser()\n",
        "\n",
        "# Load the existing workbook and select the active sheet\n",
        "wb = xw.Book(r'C:\\Users\\solom\\OneDrive\\Documents\\Quantumv1\\TestFileQ.xlsx')\n",
        "wb.app.visible = True # Make sure the Excel application is visible\n",
        "ws = wb.sheets[0]\n",
        "\n",
        "# Read data from column A starting row A1\n",
        "input_data = ws.range('A1:A' + str(ws.cells.last_cell.row)).value\n",
        "input_data = [cell for cell in input_data if cell is not None]\n",
        "\n",
        "# Generate responses for column C starting from C9\n",
        "for row_idx, input_value in enumerate(input_data, start=2):\n",
        "    output = chain.stream({\"input_data\": input_value})\n",
        "    result = ''.join([chunk for chunk in output]).strip('\"')\n",
        "    ws.range((row_idx, 2)).value = result"
      ]
    },
    {
      "cell_type": "markdown",
      "metadata": {
        "id": "ioHC_a7kB6X-"
      },
      "source": [
        "### VQE Implementation\n",
        "\n",
        "The **Variational Quamntum Eigensolver** algorithm can be used to find the energy of the ground state.  We present a basic implemntation:"
      ]
    },
    {
      "cell_type": "code",
      "execution_count": null,
      "metadata": {
        "colab": {
          "base_uri": "https://localhost:8080/",
          "height": 383
        },
        "id": "b8ceXPzlB6zA",
        "outputId": "a08f970b-8466-4473-f67f-3e80a709b8ab"
      },
      "outputs": [
        {
          "ename": "ModuleNotFoundError",
          "evalue": "No module named 'pennylane'",
          "output_type": "error",
          "traceback": [
            "\u001b[0;31m---------------------------------------------------------------------------\u001b[0m",
            "\u001b[0;31mModuleNotFoundError\u001b[0m                       Traceback (most recent call last)",
            "\u001b[0;32m<ipython-input-2-9441ff35122e>\u001b[0m in \u001b[0;36m<cell line: 1>\u001b[0;34m()\u001b[0m\n\u001b[0;32m----> 1\u001b[0;31m \u001b[0;32mimport\u001b[0m \u001b[0mpennylane\u001b[0m \u001b[0;32mas\u001b[0m \u001b[0mqml\u001b[0m\u001b[0;34m\u001b[0m\u001b[0;34m\u001b[0m\u001b[0m\n\u001b[0m\u001b[1;32m      2\u001b[0m \u001b[0;32mfrom\u001b[0m \u001b[0mpennylane\u001b[0m \u001b[0;32mimport\u001b[0m \u001b[0mqchem\u001b[0m\u001b[0;34m\u001b[0m\u001b[0;34m\u001b[0m\u001b[0m\n\u001b[1;32m      3\u001b[0m \u001b[0;32mfrom\u001b[0m \u001b[0mpennylane\u001b[0m \u001b[0;32mimport\u001b[0m \u001b[0mnumpy\u001b[0m \u001b[0;32mas\u001b[0m \u001b[0mnp\u001b[0m\u001b[0;34m\u001b[0m\u001b[0;34m\u001b[0m\u001b[0m\n\u001b[1;32m      4\u001b[0m \u001b[0;34m\u001b[0m\u001b[0m\n\u001b[1;32m      5\u001b[0m \u001b[0msymbals\u001b[0m \u001b[0;34m=\u001b[0m \u001b[0;34m[\u001b[0m\u001b[0;34m'H'\u001b[0m\u001b[0;34m,\u001b[0m\u001b[0;34m'H'\u001b[0m\u001b[0;34m]\u001b[0m\u001b[0;34m\u001b[0m\u001b[0;34m\u001b[0m\u001b[0m\n",
            "\u001b[0;31mModuleNotFoundError\u001b[0m: No module named 'pennylane'",
            "",
            "\u001b[0;31m---------------------------------------------------------------------------\u001b[0;32m\nNOTE: If your import is failing due to a missing package, you can\nmanually install dependencies using either !pip or !apt.\n\nTo view examples of installing some common dependencies, click the\n\"Open Examples\" button below.\n\u001b[0;31m---------------------------------------------------------------------------\u001b[0m\n"
          ]
        }
      ],
      "source": [
        "import pennylane as qml\n",
        "from pennylane import qchem\n",
        "from pennylane import numpy as np\n",
        "\n",
        "symbals = ['H','H']\n",
        "geometry = np.array([[0,0,-0.6614],[0,0,0.6614]])\n",
        "\n",
        "dataset = qml.data.load('qchem', molname=\"H2\")[0]\n",
        "H, qubits = dataset.hamiltonian, len(dataset.hamiltonian.wires)\n",
        "print(\"Number of qubits = \", qubits)\n",
        "#print(\"The Hamiltonian is \", H)\n",
        "electrons = 2\n",
        "\n",
        "# Generate single and double excitations\n",
        "singles, doubles = qml.qchem.excitations(electrons, qubits)\n",
        "\n",
        "\n",
        "# Map excitations to the wires the UCCSD circuit will act on\n",
        "s_wires, d_wires = qml.qchem.excitations_to_wires(singles, doubles)\n",
        "\n",
        "hf = qml.qchem.hf_state(electrons, qubits) #this will give you the hf state when given the number of electrons and number of qubits\n",
        "print(hf)"
      ]
    },
    {
      "cell_type": "code",
      "execution_count": null,
      "metadata": {
        "colab": {
          "base_uri": "https://localhost:8080/"
        },
        "id": "aPNbbaDIEL2T",
        "outputId": "6e75d419-b3bd-40c0-9a1d-0e0eeb0807b1"
      },
      "outputs": [
        {
          "name": "stdout",
          "output_type": "stream",
          "text": [
            "initial energy:  -1.1166511627456919\n",
            "-1.137262809292572\n"
          ]
        }
      ],
      "source": [
        "#define the device\n",
        "dev = qml.device(\"lightning.qubit\", wires=qubits)\n",
        "\n",
        "\n",
        "def circuit(params, wires, s_wires, d_wires, hf):\n",
        "    qml.UCCSD(params, wires, s_wires, d_wires, hf)\n",
        "    #return qml.expval(H)\n",
        "\n",
        "params = np.zeros(len(singles) + len(doubles))\n",
        "\n",
        "@qml.qnode(dev)\n",
        "def cost_fn(params):\n",
        "    circuit(params, wires=range(qubits), s_wires=s_wires, d_wires=d_wires, hf = hf)\n",
        "    return qml.expval(H)\n",
        "\n",
        "initial_energy = cost_fn(params)\n",
        "print(\"initial energy: \", initial_energy)\n",
        "\n",
        "# Perform VQE optimization to find the ground state energy\n",
        "max_iterations = 1000\n",
        "opt = qml.SPSAOptimizer(maxiter=max_iterations)\n",
        "\n",
        "for i in range(max_iterations):\n",
        "    params, energy = opt.step_and_cost(cost_fn, params)\n",
        "print(energy)"
      ]
    },
    {
      "cell_type": "code",
      "execution_count": null,
      "metadata": {
        "colab": {
          "base_uri": "https://localhost:8080/"
        },
        "id": "T2-Tu_PqVv8a",
        "outputId": "f55b3acc-22e8-4c4b-ffea-26740d901afc"
      },
      "outputs": [
        {
          "name": "stdout",
          "output_type": "stream",
          "text": [
            "Requirement already satisfied: aiohttp in /usr/local/lib/python3.10/dist-packages (3.10.9)\n",
            "Requirement already satisfied: fsspec in /usr/local/lib/python3.10/dist-packages (2024.6.1)\n",
            "Requirement already satisfied: h5py in /usr/local/lib/python3.10/dist-packages (3.11.0)\n",
            "Requirement already satisfied: aiohappyeyeballs>=2.3.0 in /usr/local/lib/python3.10/dist-packages (from aiohttp) (2.4.3)\n",
            "Requirement already satisfied: aiosignal>=1.1.2 in /usr/local/lib/python3.10/dist-packages (from aiohttp) (1.3.1)\n",
            "Requirement already satisfied: attrs>=17.3.0 in /usr/local/lib/python3.10/dist-packages (from aiohttp) (24.2.0)\n",
            "Requirement already satisfied: frozenlist>=1.1.1 in /usr/local/lib/python3.10/dist-packages (from aiohttp) (1.4.1)\n",
            "Requirement already satisfied: multidict<7.0,>=4.5 in /usr/local/lib/python3.10/dist-packages (from aiohttp) (6.1.0)\n",
            "Requirement already satisfied: yarl<2.0,>=1.12.0 in /usr/local/lib/python3.10/dist-packages (from aiohttp) (1.13.1)\n",
            "Requirement already satisfied: async-timeout<5.0,>=4.0 in /usr/local/lib/python3.10/dist-packages (from aiohttp) (4.0.3)\n",
            "Requirement already satisfied: numpy>=1.17.3 in /usr/local/lib/python3.10/dist-packages (from h5py) (1.26.4)\n",
            "Requirement already satisfied: typing-extensions>=4.1.0 in /usr/local/lib/python3.10/dist-packages (from multidict<7.0,>=4.5->aiohttp) (4.12.2)\n",
            "Requirement already satisfied: idna>=2.0 in /usr/local/lib/python3.10/dist-packages (from yarl<2.0,>=1.12.0->aiohttp) (3.10)\n"
          ]
        }
      ],
      "source": [
        "%pip install aiohttp fsspec h5py"
      ]
    },
    {
      "cell_type": "code",
      "execution_count": null,
      "metadata": {
        "colab": {
          "base_uri": "https://localhost:8080/",
          "height": 170
        },
        "id": "mZXrsuo8d0nQ",
        "outputId": "c184807b-fdcc-4dba-84b7-364102776912"
      },
      "outputs": [
        {
          "name": "stdout",
          "output_type": "stream",
          "text": [
            "Hamiltonian terms (coefficients and operators):\n",
            "[tensor(0.77359758, requires_grad=False), tensor(0.23694753, requires_grad=False), tensor(0.23694753, requires_grad=False), tensor(0.18451831, requires_grad=False), tensor(-0.4602733, requires_grad=False), tensor(0.14060027, requires_grad=False), tensor(0.18165504, requires_grad=False), tensor(0.04105477, requires_grad=False), tensor(-0.04105477, requires_grad=False), tensor(-0.04105477, requires_grad=False), tensor(0.04105477, requires_grad=False), tensor(-0.4602733, requires_grad=False), tensor(0.18165504, requires_grad=False), tensor(0.14060027, requires_grad=False), tensor(0.19173392, requires_grad=False)]\n",
            "[I(), Z(0), Z(1), Z(0) @ Z(1), Z(2), Z(0) @ Z(2), Z(1) @ Z(2), Y(0) @ X(1) @ X(2) @ Y(3), Y(0) @ Y(1) @ X(2) @ X(3), X(0) @ X(1) @ Y(2) @ Y(3), X(0) @ Y(1) @ Y(2) @ X(3), Z(3), Z(0) @ Z(3), Z(1) @ Z(3), Z(2) @ Z(3)]\n",
            "Number of qubits: 4\n"
          ]
        },
        {
          "data": {
            "application/vnd.google.colaboratory.intrinsic+json": {
              "summary": "{\n  \"name\": \"df\",\n  \"rows\": 1,\n  \"fields\": [\n    {\n      \"column\": \"Hamiltonian\",\n      \"properties\": {\n        \"dtype\": \"string\",\n        \"num_unique_values\": 1,\n        \"samples\": [\n          \"0.7735975819585176 * I(0) + 0.23694752901610283 * Z(0) + 0.23694752901610278 * Z(1) + 0.1845183079006834 * (Z(0) @ Z(1)) + -0.46027329734874106 * Z(2) + 0.14060026997649222 * (Z(0) @ Z(2)) + 0.18165504230123514 * (Z(1) @ Z(2)) + 0.041054772324742944 * (Y(0) @ X(1) @ X(2) @ Y(3)) + -0.041054772324742944 * (Y(0) @ Y(1) @ X(2) @ X(3)) + -0.041054772324742944 * (X(0) @ X(1) @ Y(2) @ Y(3)) + 0.041054772324742944 * (X(0) @ Y(1) @ Y(2) @ X(3)) + -0.4602732973487411 * Z(3) + 0.18165504230123514 * (Z(0) @ Z(3)) + 0.14060026997649222 * (Z(1) @ Z(3)) + 0.19173391712932686 * (Z(2) @ Z(3))\"\n        ],\n        \"semantic_type\": \"\",\n        \"description\": \"\"\n      }\n    },\n    {\n      \"column\": \"Qubits\",\n      \"properties\": {\n        \"dtype\": \"number\",\n        \"std\": null,\n        \"min\": 4,\n        \"max\": 4,\n        \"num_unique_values\": 1,\n        \"samples\": [\n          4\n        ],\n        \"semantic_type\": \"\",\n        \"description\": \"\"\n      }\n    }\n  ]\n}",
              "type": "dataframe",
              "variable_name": "df"
            },
            "text/html": [
              "\n",
              "  <div id=\"df-02126ce7-e799-450d-83cf-b357674f107d\" class=\"colab-df-container\">\n",
              "    <div>\n",
              "<style scoped>\n",
              "    .dataframe tbody tr th:only-of-type {\n",
              "        vertical-align: middle;\n",
              "    }\n",
              "\n",
              "    .dataframe tbody tr th {\n",
              "        vertical-align: top;\n",
              "    }\n",
              "\n",
              "    .dataframe thead th {\n",
              "        text-align: right;\n",
              "    }\n",
              "</style>\n",
              "<table border=\"1\" class=\"dataframe\">\n",
              "  <thead>\n",
              "    <tr style=\"text-align: right;\">\n",
              "      <th></th>\n",
              "      <th>Hamiltonian</th>\n",
              "      <th>Qubits</th>\n",
              "    </tr>\n",
              "  </thead>\n",
              "  <tbody>\n",
              "    <tr>\n",
              "      <th>0</th>\n",
              "      <td>0.7735975819585176 * I(0) + 0.2369475290161028...</td>\n",
              "      <td>4</td>\n",
              "    </tr>\n",
              "  </tbody>\n",
              "</table>\n",
              "</div>\n",
              "    <div class=\"colab-df-buttons\">\n",
              "\n",
              "  <div class=\"colab-df-container\">\n",
              "    <button class=\"colab-df-convert\" onclick=\"convertToInteractive('df-02126ce7-e799-450d-83cf-b357674f107d')\"\n",
              "            title=\"Convert this dataframe to an interactive table.\"\n",
              "            style=\"display:none;\">\n",
              "\n",
              "  <svg xmlns=\"http://www.w3.org/2000/svg\" height=\"24px\" viewBox=\"0 -960 960 960\">\n",
              "    <path d=\"M120-120v-720h720v720H120Zm60-500h600v-160H180v160Zm220 220h160v-160H400v160Zm0 220h160v-160H400v160ZM180-400h160v-160H180v160Zm440 0h160v-160H620v160ZM180-180h160v-160H180v160Zm440 0h160v-160H620v160Z\"/>\n",
              "  </svg>\n",
              "    </button>\n",
              "\n",
              "  <style>\n",
              "    .colab-df-container {\n",
              "      display:flex;\n",
              "      gap: 12px;\n",
              "    }\n",
              "\n",
              "    .colab-df-convert {\n",
              "      background-color: #E8F0FE;\n",
              "      border: none;\n",
              "      border-radius: 50%;\n",
              "      cursor: pointer;\n",
              "      display: none;\n",
              "      fill: #1967D2;\n",
              "      height: 32px;\n",
              "      padding: 0 0 0 0;\n",
              "      width: 32px;\n",
              "    }\n",
              "\n",
              "    .colab-df-convert:hover {\n",
              "      background-color: #E2EBFA;\n",
              "      box-shadow: 0px 1px 2px rgba(60, 64, 67, 0.3), 0px 1px 3px 1px rgba(60, 64, 67, 0.15);\n",
              "      fill: #174EA6;\n",
              "    }\n",
              "\n",
              "    .colab-df-buttons div {\n",
              "      margin-bottom: 4px;\n",
              "    }\n",
              "\n",
              "    [theme=dark] .colab-df-convert {\n",
              "      background-color: #3B4455;\n",
              "      fill: #D2E3FC;\n",
              "    }\n",
              "\n",
              "    [theme=dark] .colab-df-convert:hover {\n",
              "      background-color: #434B5C;\n",
              "      box-shadow: 0px 1px 3px 1px rgba(0, 0, 0, 0.15);\n",
              "      filter: drop-shadow(0px 1px 2px rgba(0, 0, 0, 0.3));\n",
              "      fill: #FFFFFF;\n",
              "    }\n",
              "  </style>\n",
              "\n",
              "    <script>\n",
              "      const buttonEl =\n",
              "        document.querySelector('#df-02126ce7-e799-450d-83cf-b357674f107d button.colab-df-convert');\n",
              "      buttonEl.style.display =\n",
              "        google.colab.kernel.accessAllowed ? 'block' : 'none';\n",
              "\n",
              "      async function convertToInteractive(key) {\n",
              "        const element = document.querySelector('#df-02126ce7-e799-450d-83cf-b357674f107d');\n",
              "        const dataTable =\n",
              "          await google.colab.kernel.invokeFunction('convertToInteractive',\n",
              "                                                    [key], {});\n",
              "        if (!dataTable) return;\n",
              "\n",
              "        const docLinkHtml = 'Like what you see? Visit the ' +\n",
              "          '<a target=\"_blank\" href=https://colab.research.google.com/notebooks/data_table.ipynb>data table notebook</a>'\n",
              "          + ' to learn more about interactive tables.';\n",
              "        element.innerHTML = '';\n",
              "        dataTable['output_type'] = 'display_data';\n",
              "        await google.colab.output.renderOutput(dataTable, element);\n",
              "        const docLink = document.createElement('div');\n",
              "        docLink.innerHTML = docLinkHtml;\n",
              "        element.appendChild(docLink);\n",
              "      }\n",
              "    </script>\n",
              "  </div>\n",
              "\n",
              "\n",
              "    </div>\n",
              "  </div>\n"
            ],
            "text/plain": [
              "                                         Hamiltonian  Qubits\n",
              "0  0.7735975819585176 * I(0) + 0.2369475290161028...       4"
            ]
          },
          "execution_count": 35,
          "metadata": {},
          "output_type": "execute_result"
        }
      ],
      "source": [
        "import pennylane as qml\n",
        "from pennylane import qchem\n",
        "import numpy as np\n",
        "import pandas as pd\n",
        "\n",
        "# Define the molecule's bond length and compute molecular Hamiltonian\n",
        "bondlength = 0.742  # in angstroms\n",
        "\n",
        "# Create the symbols and coordinates for the molecule (without multiplicity)\n",
        "symbols = [\"H\", \"H\"]\n",
        "coordinates = np.array([[0.0, 0.0, 0.0], [0.0, 0.0, bondlength]])  # Cartesian coordinates in angstroms\n",
        "\n",
        "# Generate the molecular Hamiltonian using the symbols, coordinates, charge\n",
        "H, qubits = qchem.molecular_hamiltonian(\n",
        "    symbols=symbols,\n",
        "    coordinates=coordinates,\n",
        "    charge=0,\n",
        "    basis=\"STO-3G\"\n",
        ")\n",
        "\n",
        "# Print the Hamiltonian in a readable form\n",
        "print(\"Hamiltonian terms (coefficients and operators):\")\n",
        "for term in H.terms():\n",
        "    print(term)\n",
        "\n",
        "# Print the number of qubits required\n",
        "print(f\"Number of qubits: {qubits}\")\n",
        "\n",
        "# Assuming H contains some useful data, place it into a DataFrame (if needed)\n",
        "# For now, we will store just a simple representation of the Hamiltonian\n",
        "hamiltonian_data = {\"Hamiltonian\": [str(H)], \"Qubits\": [qubits]}\n",
        "df = pd.DataFrame(hamiltonian_data)\n",
        "\n",
        "# Print the DataFrame to inspect\n",
        "# print(df)\n",
        "df.head()"
      ]
    },
    {
      "cell_type": "code",
      "execution_count": null,
      "metadata": {
        "colab": {
          "base_uri": "https://localhost:8080/"
        },
        "id": "tME6D4kad1Po",
        "outputId": "1c374a3f-c6a2-4330-c41d-abb06be8f347"
      },
      "outputs": [
        {
          "name": "stdout",
          "output_type": "stream",
          "text": [
            "Optimizing ground state...\n",
            "Iteration 0: Ground state energy = -0.18336426\n",
            "Iteration 10: Ground state energy = -0.85696939\n",
            "Iteration 20: Ground state energy = -1.07800806\n",
            "Iteration 30: Ground state energy = -1.11870761\n",
            "Iteration 40: Ground state energy = -1.12699393\n",
            "Iteration 50: Ground state energy = -1.13587216\n",
            "Iteration 60: Ground state energy = -1.13606392\n",
            "Iteration 70: Ground state energy = -1.13690145\n",
            "Iteration 80: Ground state energy = -1.13714001\n",
            "Iteration 90: Ground state energy = -1.13721766\n",
            "Iteration 100: Ground state energy = -1.13724630\n",
            "Iteration 110: Ground state energy = -1.13725602\n",
            "Iteration 120: Ground state energy = -1.13726132\n",
            "Iteration 130: Ground state energy = -1.13726249\n",
            "Iteration 140: Ground state energy = -1.13726298\n",
            "Iteration 150: Ground state energy = -1.13726324\n",
            "Iteration 160: Ground state energy = -1.13726329\n",
            "Iteration 170: Ground state energy = -1.13726331\n",
            "Iteration 180: Ground state energy = -1.13726332\n",
            "Iteration 190: Ground state energy = -1.13726332\n",
            "Iteration 200: Ground state energy = -1.13726332\n",
            "Iteration 210: Ground state energy = -1.13726332\n",
            "Iteration 220: Ground state energy = -1.13726332\n",
            "Iteration 230: Ground state energy = -1.13726332\n",
            "Iteration 240: Ground state energy = -1.13726332\n",
            "Iteration 250: Ground state energy = -1.13726332\n",
            "Iteration 260: Ground state energy = -1.13726332\n",
            "Iteration 270: Ground state energy = -1.13726332\n",
            "Iteration 280: Ground state energy = -1.13726332\n",
            "Iteration 290: Ground state energy = -1.13726332\n",
            "Optimizing excited state...\n",
            "Iteration 0: Excited state energy = 0.22512795\n",
            "Iteration 10: Excited state energy = -0.49763668\n",
            "Iteration 20: Excited state energy = -0.50231150\n",
            "Iteration 30: Excited state energy = -0.51998415\n",
            "Iteration 40: Excited state energy = -0.52670501\n",
            "Iteration 50: Excited state energy = -0.53113456\n",
            "Iteration 60: Excited state energy = -0.53314699\n",
            "Iteration 70: Excited state energy = -0.53429173\n",
            "Iteration 80: Excited state energy = -0.53472203\n",
            "Iteration 90: Excited state energy = -0.53489257\n",
            "Iteration 100: Excited state energy = -0.53501021\n",
            "Iteration 110: Excited state energy = -0.53515143\n",
            "Iteration 120: Excited state energy = -0.53530382\n",
            "Iteration 130: Excited state energy = -0.53546932\n",
            "Iteration 140: Excited state energy = -0.53565221\n",
            "Iteration 150: Excited state energy = -0.53585451\n",
            "Iteration 160: Excited state energy = -0.53607699\n",
            "Iteration 170: Excited state energy = -0.53632015\n",
            "Iteration 180: Excited state energy = -0.53658329\n",
            "Iteration 190: Excited state energy = -0.53686353\n",
            "Iteration 200: Excited state energy = -0.53715534\n",
            "Iteration 210: Excited state energy = -0.53745011\n",
            "Iteration 220: Excited state energy = -0.53773668\n",
            "Iteration 230: Excited state energy = -0.53800274\n",
            "Iteration 240: Excited state energy = -0.53823722\n",
            "Iteration 250: Excited state energy = -0.53843260\n",
            "Iteration 260: Excited state energy = -0.53858624\n",
            "Iteration 270: Excited state energy = -0.53870035\n",
            "Iteration 280: Excited state energy = -0.53878074\n",
            "Iteration 290: Excited state energy = -0.53883486\n",
            "\n",
            "Ground state energy: -1.13726332 Ha\n",
            "First excited state energy: -0.53886714 Ha\n",
            "Spectral gap: 0.59839618 Ha\n"
          ]
        }
      ],
      "source": [
        "import pennylane as qml\n",
        "from pennylane import numpy as np\n",
        "\n",
        "# Load the pre-generated molecular dataset for H2 from the PennyLane dataset\n",
        "dataset = qml.data.load(\"qchem\", molname=\"H2\", bondlength=0.742, basis=\"STO-3G\")\n",
        "\n",
        "# Extract the Hamiltonian\n",
        "H = dataset[0].hamiltonian\n",
        "\n",
        "# Set up the quantum device\n",
        "n_qubits = len(H.wires)  # Number of qubits needed for the Hamiltonian\n",
        "dev = qml.device(\"default.qubit\", wires=n_qubits)\n",
        "\n",
        "# Define a deeper ansatz (variational circuit)\n",
        "def ansatz(params, wires):\n",
        "    qml.templates.StronglyEntanglingLayers(params, wires=wires)\n",
        "\n",
        "# Cost function to minimize for the ground state\n",
        "@qml.qnode(dev)\n",
        "def cost_fn(params):\n",
        "    ansatz(params, wires=range(n_qubits))\n",
        "    return qml.expval(H)\n",
        "\n",
        "# Get the state of the system\n",
        "@qml.qnode(dev)\n",
        "def get_state(params):\n",
        "    ansatz(params, wires=range(n_qubits))\n",
        "    return qml.state()\n",
        "\n",
        "# VQE for Ground State\n",
        "def vqe_ground_state(num_layers, max_iterations=300):\n",
        "    # Randomly initialize parameters for the ansatz\n",
        "    params = np.random.normal(0, np.pi, (num_layers, n_qubits, 3))\n",
        "\n",
        "    # Optimizer\n",
        "    optimizer = qml.AdamOptimizer(stepsize=0.03)  # Adjust learning rate\n",
        "    conv_tol = 1e-6\n",
        "\n",
        "    for n in range(max_iterations):\n",
        "        params, cost = optimizer.step_and_cost(cost_fn, params)\n",
        "        if n % 10 == 0:\n",
        "            print(f\"Iteration {n}: Ground state energy = {cost:.8f}\")\n",
        "        if np.abs(cost + 1.136376576275189) < conv_tol:  # Close to expected value\n",
        "            print(\"Converged\")\n",
        "            break\n",
        "\n",
        "    return cost, params\n",
        "\n",
        "# Cost function to minimize for the excited state (using SSVQE method)\n",
        "def excited_cost_fn(params_excited, params_ground):\n",
        "    # Prepare the ground state\n",
        "    ground_state = get_state(params_ground)\n",
        "\n",
        "    # Prepare the excited state\n",
        "    excited_state = get_state(params_excited)\n",
        "\n",
        "    # Calculate the energy of the excited state\n",
        "    energy = cost_fn(params_excited)\n",
        "\n",
        "    # Penalize overlap with the ground state to enforce orthogonality\n",
        "    overlap_penalty = np.abs(np.dot(ground_state.conj().T, excited_state))**2\n",
        "\n",
        "    return energy + 5 * overlap_penalty  # Apply strong overlap penalty\n",
        "\n",
        "# VQE for Excited State\n",
        "def vqe_excited_state(params_ground, num_layers, max_iterations=300):\n",
        "    # Randomly initialize parameters for the excited state ansatz\n",
        "    params_excited = np.random.normal(0, np.pi, (num_layers, n_qubits, 3))\n",
        "\n",
        "    # Optimizer\n",
        "    optimizer = qml.AdamOptimizer(stepsize=0.03)  # Adjust learning rate\n",
        "    conv_tol = 1e-6\n",
        "\n",
        "    for n in range(max_iterations):\n",
        "        params_excited, cost = optimizer.step_and_cost(lambda p: excited_cost_fn(p, params_ground), params_excited)\n",
        "        if n % 10 == 0:\n",
        "            print(f\"Iteration {n}: Excited state energy = {cost:.8f}\")\n",
        "        if np.abs(cost + 0.53320790) < conv_tol:  # Close to expected value\n",
        "            print(\"Converged\")\n",
        "            break\n",
        "\n",
        "    return cost, params_excited\n",
        "\n",
        "# Function to calculate the spectral gap using VQE\n",
        "def calculate_spectral_gap(num_layers=8, max_iterations=300):\n",
        "    # Find the ground state energy using VQE\n",
        "    print(\"Optimizing ground state...\")\n",
        "    ground_energy, params_ground = vqe_ground_state(num_layers, max_iterations)\n",
        "\n",
        "    # Find the first excited state energy using modified VQE\n",
        "    print(\"Optimizing excited state...\")\n",
        "    excited_energy, params_excited = vqe_excited_state(params_ground, num_layers, max_iterations)\n",
        "\n",
        "    # Calculate and return the spectral gap\n",
        "    spectral_gap = excited_energy - ground_energy\n",
        "    print(f\"\\nGround state energy: {ground_energy:.8f} Ha\")\n",
        "    print(f\"First excited state energy: {excited_energy:.8f} Ha\")\n",
        "    print(f\"Spectral gap: {spectral_gap:.8f} Ha\")\n",
        "    return spectral_gap\n",
        "\n",
        "# Calculate the spectral gap\n",
        "spectral_gap = calculate_spectral_gap(num_layers=8, max_iterations=300)\n"
      ]
    },
    {
      "cell_type": "code",
      "execution_count": null,
      "metadata": {
        "id": "bNAbFZmI3ydj"
      },
      "outputs": [],
      "source": [
        "import pennylane as qml\n",
        "from pennylane import numpy as np"
      ]
    },
    {
      "cell_type": "code",
      "execution_count": null,
      "metadata": {
        "colab": {
          "base_uri": "https://localhost:8080/"
        },
        "id": "7b0ui_CH-p13",
        "outputId": "848a660b-0868-4544-d197-9ebcc1cb7510"
      },
      "outputs": [
        {
          "name": "stdout",
          "output_type": "stream",
          "text": [
            "[<Dataset = molname: H2, basis: STO-3G, bondlength: 0.742, attributes: ['basis', 'basis_rot_groupings', ...]>]\n"
          ]
        }
      ],
      "source": [
        "# Load the pre-generated molecular dataset for H2 from the PennyLane dataset\n",
        "dataset = qml.data.load(\"qchem\", molname=\"H2\", bondlength=0.742, basis=\"STO-3G\")\n",
        "\n",
        "# Print the dataset structure to understand it\n",
        "print(dataset)\n"
      ]
    },
    {
      "cell_type": "code",
      "execution_count": null,
      "metadata": {
        "id": "dMJySez2m2dd"
      },
      "outputs": [],
      "source": [
        "import pennylane as qml\n",
        "from pennylane import numpy as np\n",
        "\n",
        "def my_quantum_function(x, y):\n",
        "    qml.RZ(x, wires=0)\n",
        "    qml.CNOT(wires=[0,1])\n",
        "    qml.RY(y, wires=1)\n",
        "    return qml.expval(qml.PauliZ(1))"
      ]
    },
    {
      "cell_type": "code",
      "execution_count": null,
      "metadata": {
        "id": "bLuCZKBLm7Cd"
      },
      "outputs": [],
      "source": [
        "dev = qml.device('default.qubit', wires=2, shots=1000)\n"
      ]
    },
    {
      "cell_type": "code",
      "execution_count": null,
      "metadata": {
        "id": "emRlstAKm8uI"
      },
      "outputs": [],
      "source": [
        "dev = qml.device('default.qubit', wires=3)"
      ]
    },
    {
      "cell_type": "code",
      "execution_count": null,
      "metadata": {
        "id": "88rvwbDSm-eE"
      },
      "outputs": [],
      "source": [
        "dev_unique_wires = qml.device('default.qubit', wires=['aux', 'q1', 'q2'])"
      ]
    },
    {
      "cell_type": "code",
      "execution_count": null,
      "metadata": {
        "id": "mH8cgxf6nBJP"
      },
      "outputs": [],
      "source": [
        "def my_quantum_function(x, y):\n",
        "    qml.RZ(x, wires='q1')\n",
        "    qml.CNOT(wires=['aux' ,'q1'])\n",
        "    qml.RY(y, wires='q2')\n",
        "    return qml.expval(qml.PauliZ('q2'))"
      ]
    },
    {
      "cell_type": "code",
      "execution_count": null,
      "metadata": {
        "id": "eVSgyhpRnDSF"
      },
      "outputs": [],
      "source": [
        "shots_list = [5, 10, 1000]\n",
        "dev = qml.device(\"default.qubit\", wires=2, shots=shots_list)"
      ]
    },
    {
      "cell_type": "code",
      "execution_count": null,
      "metadata": {
        "id": "6F59A1cwnFEp"
      },
      "outputs": [],
      "source": [
        "@qml.qnode(dev)\n",
        "def circuit(x):\n",
        "    qml.RX(x, wires=0)\n",
        "    qml.CNOT(wires=[0, 1])\n",
        "    return qml.expval(qml.PauliZ(0) @ qml.PauliX(1)), qml.expval(qml.PauliZ(0))"
      ]
    },
    {
      "cell_type": "code",
      "execution_count": null,
      "metadata": {
        "colab": {
          "base_uri": "https://localhost:8080/"
        },
        "id": "cDIXZ_SknGwc",
        "outputId": "9b1f47ff-abb5-4254-a437-236f0cf0a4e5"
      },
      "outputs": [
        {
          "data": {
            "text/plain": [
              "((-0.2, 1.0), (-0.2, 1.0), (-0.012, 0.868))"
            ]
          },
          "execution_count": 19,
          "metadata": {},
          "output_type": "execute_result"
        }
      ],
      "source": [
        "results = circuit(0.5)\n",
        "results"
      ]
    },
    {
      "cell_type": "code",
      "execution_count": null,
      "metadata": {
        "colab": {
          "base_uri": "https://localhost:8080/"
        },
        "id": "HwaKlYXJnIXu",
        "outputId": "d8a031d1-d70e-44c3-e324-998b97cd196b"
      },
      "outputs": [
        {
          "data": {
            "text/plain": [
              "(-0.2, 1.0)"
            ]
          },
          "execution_count": 20,
          "metadata": {},
          "output_type": "execute_result"
        }
      ],
      "source": [
        "results[0]"
      ]
    },
    {
      "cell_type": "code",
      "execution_count": null,
      "metadata": {
        "id": "9uIMkd9RnKDj"
      },
      "outputs": [],
      "source": [
        "circuit = qml.QNode(my_quantum_function, dev_unique_wires)"
      ]
    },
    {
      "cell_type": "code",
      "execution_count": null,
      "metadata": {
        "id": "_i9rexkVnLj6"
      },
      "outputs": [],
      "source": [
        "dev = qml.device('default.qubit', wires=2)\n",
        "\n",
        "@qml.qnode(dev)\n",
        "def circuit(x):\n",
        "    qml.RZ(x, wires=0)\n",
        "    qml.CNOT(wires=[0,1])\n",
        "    qml.RY(x, wires=1)\n",
        "    return qml.expval(qml.PauliZ(1))\n",
        "\n",
        "result = circuit(0.543)\n"
      ]
    },
    {
      "cell_type": "code",
      "execution_count": null,
      "metadata": {
        "colab": {
          "base_uri": "https://localhost:8080/"
        },
        "id": "J-tcMJvcnOtF",
        "outputId": "9f30ae88-367a-4399-8f82-fd82ef4f059b"
      },
      "outputs": [
        {
          "name": "stdout",
          "output_type": "stream",
          "text": [
            "Number of qubits =  4\n"
          ]
        }
      ],
      "source": [
        "dataset = qml.data.load('qchem',molname=\"H2\", bondlength=0.7)[0]\n",
        "hamiltonian, qubits = dataset.hamiltonian, len(dataset.hamiltonian.wires)\n",
        "hamiltonian_coeffs, hamiltonian_ops = hamiltonian.terms()\n",
        "\n",
        "print(\"Number of qubits = \", qubits)"
      ]
    },
    {
      "cell_type": "code",
      "execution_count": null,
      "metadata": {
        "id": "ZXqamSu9ndrc"
      },
      "outputs": [],
      "source": [
        "dev = qml.device(\"default.qubit\", wires=qubits)\n",
        "hf_state = np.array([1, 1, 0, 0])  # Removed 'requires_grad=False'\n",
        "\n",
        "def ansatz(params, wires=[0, 1, 2, 3]):\n",
        "    qml.BasisState(hf_state, wires=wires)\n",
        "    for i in wires:\n",
        "        qml.RZ(params[3 * i], wires=i)\n",
        "        qml.RY(params[3 * i + 1], wires=i)\n",
        "        qml.RZ(params[3 * i + 2], wires=i)\n",
        "    qml.CNOT(wires=[2, 3])\n",
        "    qml.CNOT(wires=[2, 0])\n",
        "    qml.CNOT(wires=[3, 1])\n"
      ]
    },
    {
      "cell_type": "code",
      "execution_count": null,
      "metadata": {
        "id": "h4GZXOVxnfqD"
      },
      "outputs": [],
      "source": [
        "@qml.qnode(dev, interface=\"autograd\")\n",
        "def cost(params):\n",
        "    ansatz(params)\n",
        "    return qml.expval(hamiltonian)"
      ]
    },
    {
      "cell_type": "code",
      "execution_count": null,
      "metadata": {
        "colab": {
          "base_uri": "https://localhost:8080/"
        },
        "id": "eWMQBOzcnhoP",
        "outputId": "1bb55ec4-0e50-4003-f44a-13384c4b3b04"
      },
      "outputs": [
        {
          "data": {
            "text/plain": [
              "-1.1361895496530567"
            ]
          },
          "execution_count": 26,
          "metadata": {},
          "output_type": "execute_result"
        }
      ],
      "source": [
        "exact_value = dataset.fci_energy # -1.1361895496530567\n",
        "exact_value"
      ]
    },
    {
      "cell_type": "code",
      "execution_count": 10,
      "metadata": {
        "id": "dnnzA_iXnjNR"
      },
      "outputs": [],
      "source": [
        "np.random.seed(0)\n",
        "init_params = np.random.uniform(low=0, high=2 * np.pi, size=12)  # Removed 'requires_grad=True'\n",
        "max_iterations = 500\n",
        "step_size = 0.5\n",
        "conv_tol = 1e-06\n"
      ]
    },
    {
      "cell_type": "code",
      "execution_count": 11,
      "metadata": {
        "colab": {
          "base_uri": "https://localhost:8080/",
          "height": 297
        },
        "id": "LpEyfKJ_nkgv",
        "outputId": "d5d799a7-a074-4525-cbe2-365a88ebc9e0"
      },
      "outputs": [
        {
          "name": "stdout",
          "output_type": "stream",
          "text": [
            "Iteration = 0, Energy = -0.98789623 Ha\n",
            "\n",
            "Final convergence parameter = 0.00000056 Ha\n",
            "Number of iterations =  8\n",
            "Final value of the ground-state energy = -0.99999981 Ha\n"
          ]
        },
        {
          "ename": "NameError",
          "evalue": "name 'exact_value' is not defined",
          "output_type": "error",
          "traceback": [
            "\u001b[0;31m---------------------------------------------------------------------------\u001b[0m",
            "\u001b[0;31mNameError\u001b[0m                                 Traceback (most recent call last)",
            "\u001b[0;32m<ipython-input-11-14d58830050f>\u001b[0m in \u001b[0;36m<cell line: 34>\u001b[0;34m()\u001b[0m\n\u001b[1;32m     32\u001b[0m \u001b[0mprint\u001b[0m\u001b[0;34m(\u001b[0m\u001b[0;34m\"Number of iterations = \"\u001b[0m\u001b[0;34m,\u001b[0m \u001b[0mn\u001b[0m\u001b[0;34m)\u001b[0m\u001b[0;34m\u001b[0m\u001b[0;34m\u001b[0m\u001b[0m\n\u001b[1;32m     33\u001b[0m \u001b[0mprint\u001b[0m\u001b[0;34m(\u001b[0m\u001b[0;34mf\"Final value of the ground-state energy = {energy:.8f} Ha\"\u001b[0m\u001b[0;34m)\u001b[0m\u001b[0;34m\u001b[0m\u001b[0;34m\u001b[0m\u001b[0m\n\u001b[0;32m---> 34\u001b[0;31m \u001b[0mprint\u001b[0m\u001b[0;34m(\u001b[0m\u001b[0;34mf\"Accuracy with respect to the FCI energy: {np.abs(energy - exact_value):.8f} Ha ({np.abs(energy - exact_value) * 627.503:.8f} kcal/mol)\"\u001b[0m\u001b[0;34m)\u001b[0m\u001b[0;34m\u001b[0m\u001b[0;34m\u001b[0m\u001b[0m\n\u001b[0m\u001b[1;32m     35\u001b[0m \u001b[0mprint\u001b[0m\u001b[0;34m(\u001b[0m\u001b[0;34m\"\\nFinal circuit parameters = \\n\"\u001b[0m\u001b[0;34m,\u001b[0m \u001b[0mparams\u001b[0m\u001b[0;34m)\u001b[0m\u001b[0;34m\u001b[0m\u001b[0;34m\u001b[0m\u001b[0m\n",
            "\u001b[0;31mNameError\u001b[0m: name 'exact_value' is not defined"
          ]
        }
      ],
      "source": [
        "import pennylane as qml\n",
        "import numpy as np\n",
        "\n",
        "# Initialize parameters (add randomness if needed)\n",
        "params = qml.numpy.array(init_params, requires_grad=True)\n",
        "\n",
        "# Set up the optimizer\n",
        "opt = qml.GradientDescentOptimizer(step_size)\n",
        "\n",
        "# Set up a list to track the energy values (cost function) during optimization\n",
        "gd_cost = []\n",
        "\n",
        "for n in range(max_iterations):\n",
        "    # Perform an optimization step and compute the new energy (cost)\n",
        "    params, prev_energy = opt.step_and_cost(cost, params)\n",
        "    gd_cost.append(prev_energy)\n",
        "\n",
        "    # Compute the new energy and the convergence value (absolute difference)\n",
        "    energy = cost(params)\n",
        "    conv = np.abs(energy - prev_energy)\n",
        "\n",
        "    # Print progress every 20 iterations\n",
        "    if n % 20 == 0:\n",
        "        print(f\"Iteration = {n}, Energy = {energy:.8f} Ha\")\n",
        "\n",
        "    # Check for convergence: if the change in energy is smaller than the tolerance\n",
        "    if conv <= conv_tol:\n",
        "        break\n",
        "\n",
        "# Final results after optimization\n",
        "print(f\"\\nFinal convergence parameter = {conv:.8f} Ha\")\n",
        "print(\"Number of iterations = \", n)\n",
        "print(f\"Final value of the ground-state energy = {energy:.8f} Ha\")\n",
        "print(f\"Accuracy with respect to the FCI energy: {np.abs(energy - exact_value):.8f} Ha ({np.abs(energy - exact_value) * 627.503:.8f} kcal/mol)\")\n",
        "print(\"\\nFinal circuit parameters = \\n\", params)\n"
      ]
    },
    {
      "cell_type": "code",
      "execution_count": 7,
      "metadata": {
        "colab": {
          "base_uri": "https://localhost:8080/"
        },
        "id": "Te9unLLXnmH4",
        "outputId": "bc7567b6-b042-438c-8210-53d1aff2387e"
      },
      "outputs": [
        {
          "name": "stdout",
          "output_type": "stream",
          "text": [
            "Iteration 0, Energy = -0.84139841 Ha\n",
            "Iteration 10, Energy = -0.92628383 Ha\n",
            "Iteration 20, Energy = -0.96659592 Ha\n",
            "Iteration 30, Energy = -0.98504144 Ha\n",
            "Iteration 40, Energy = -0.99333741 Ha\n",
            "Iteration 50, Energy = -0.99703961 Ha\n",
            "Iteration 60, Energy = -0.99868602 Ha\n",
            "Iteration 70, Energy = -0.99941707 Ha\n",
            "Iteration 80, Energy = -0.99974144 Ha\n",
            "Iteration 90, Energy = -0.99988533 Ha\n",
            "\n",
            "Final convergence parameter: 0.00000467 Ha\n",
            "Number of iterations: 99\n",
            "Final energy: -0.99994484 Ha\n",
            "Final parameters: [3.13108894 2.75988482]\n"
          ]
        }
      ],
      "source": [
        "import pennylane as qml\n",
        "import numpy as np\n",
        "\n",
        "# Define a simple device\n",
        "dev = qml.device('default.qubit', wires=2)\n",
        "\n",
        "# Define a cost function (quantum circuit with trainable parameters)\n",
        "@qml.qnode(dev)\n",
        "def cost(params):\n",
        "    qml.RX(params[0], wires=0)\n",
        "    qml.RY(params[1], wires=1)\n",
        "    qml.CNOT(wires=[0, 1])\n",
        "    return qml.expval(qml.PauliZ(0))\n",
        "\n",
        "# Initialize parameters\n",
        "init_params = np.random.uniform(0, 2*np.pi, 2)\n",
        "params = qml.numpy.array(init_params, requires_grad=True)\n",
        "\n",
        "# Define a simple Hamiltonian (Pauli-Z expectation value)\n",
        "hamiltonian_coeffs = [1.0]\n",
        "hamiltonian_ops = [qml.PauliZ(0)]\n",
        "hamiltonian = qml.Hamiltonian(qml.numpy.array(hamiltonian_coeffs), hamiltonian_ops)\n",
        "\n",
        "# Setup the optimizer (Quantum Natural Gradient Optimizer)\n",
        "opt = qml.QNGOptimizer(stepsize=0.01, lam=0.001, approx=\"block-diag\")\n",
        "\n",
        "# Perform optimization\n",
        "max_iterations = 100\n",
        "conv_tol = 1e-6\n",
        "prev_energy = cost(params)\n",
        "qngd_cost = []\n",
        "\n",
        "for n in range(max_iterations):\n",
        "    # Optimization step\n",
        "    params, prev_energy = opt.step_and_cost(cost, params)\n",
        "    qngd_cost.append(prev_energy)\n",
        "\n",
        "    # Calculate the energy after the step\n",
        "    energy = cost(params)\n",
        "    conv = np.abs(energy - prev_energy)\n",
        "\n",
        "    if n % 10 == 0:\n",
        "        print(f\"Iteration {n}, Energy = {energy:.8f} Ha\")\n",
        "\n",
        "    if conv <= conv_tol:\n",
        "        break\n",
        "\n",
        "# Final output\n",
        "print(f\"\\nFinal convergence parameter: {conv:.8f} Ha\")\n",
        "print(f\"Number of iterations: {n}\")\n",
        "print(f\"Final energy: {energy:.8f} Ha\")\n",
        "print(f\"Final parameters: {params}\")\n"
      ]
    },
    {
      "cell_type": "code",
      "execution_count": null,
      "metadata": {
        "id": "ziEx1y02noTq"
      },
      "outputs": [],
      "source": []
    },
    {
      "cell_type": "code",
      "execution_count": 6,
      "metadata": {
        "colab": {
          "base_uri": "https://localhost:8080/",
          "height": 564
        },
        "id": "ArXWY267nqCc",
        "outputId": "a2988bbc-f52f-46db-85b6-aa7e7da47fa9"
      },
      "outputs": [
        {
          "data": {
            "image/png": "[encoded data removed]",
            "text/plain": [
              "<Figure size 800x600 with 1 Axes>"
            ]
          },
          "metadata": {},
          "output_type": "display_data"
        }
      ],
      "source": [
        "import matplotlib.pyplot as plt\n",
        "import numpy as np\n",
        "\n",
        "# Placeholder example of cost data for 10 independent trials\n",
        "gd_trials = [np.random.normal(0.1, 0.05, 200) for _ in range(10)]\n",
        "qngd_trials = [np.random.normal(0.05, 0.02, 200) for _ in range(10)]\n",
        "\n",
        "# Calculate mean and standard deviation for each step\n",
        "gd_mean = np.mean(gd_trials, axis=0)\n",
        "gd_std = np.std(gd_trials, axis=0)\n",
        "\n",
        "qngd_mean = np.mean(qngd_trials, axis=0)\n",
        "qngd_std = np.std(qngd_trials, axis=0)\n",
        "\n",
        "# Create the plot\n",
        "steps = np.arange(200)\n",
        "\n",
        "plt.figure(figsize=(8, 6))\n",
        "plt.fill_between(steps, gd_mean - gd_std, gd_mean + gd_std, color=\"green\", alpha=0.3)\n",
        "plt.fill_between(steps, qngd_mean - qngd_std, qngd_mean + qngd_std, color=\"blue\", alpha=0.3)\n",
        "plt.plot(steps, gd_mean, 'g', label=\"vanilla gradient descent\")\n",
        "plt.plot(steps, qngd_mean, 'b', label=\"quantum natural gradient\")\n",
        "\n",
        "plt.xlabel(\"Optimization steps\")\n",
        "plt.ylabel(\"Energy\")\n",
        "plt.legend()\n",
        "plt.title(\"Robustness in Parameter Initialization: Mean and Standard Deviation\")\n",
        "plt.show()\n"
      ]
    },
    {
      "cell_type": "code",
      "execution_count": 5,
      "metadata": {
        "colab": {
          "base_uri": "https://localhost:8080/",
          "height": 385
        },
        "id": "HTA6zX_Anypn",
        "outputId": "82e230bb-db16-4b15-de8a-2c1909e3a7ea"
      },
      "outputs": [
        {
          "ename": "ModuleNotFoundError",
          "evalue": "No module named 'pyscf'",
          "output_type": "error",
          "traceback": [
            "\u001b[0;31m---------------------------------------------------------------------------\u001b[0m",
            "\u001b[0;31mModuleNotFoundError\u001b[0m                       Traceback (most recent call last)",
            "\u001b[0;32m<ipython-input-5-c6437f7f4fe2>\u001b[0m in \u001b[0;36m<cell line: 5>\u001b[0;34m()\u001b[0m\n\u001b[1;32m      3\u001b[0m \u001b[0;32mfrom\u001b[0m \u001b[0mpennylane\u001b[0m \u001b[0;32mimport\u001b[0m \u001b[0mqchem\u001b[0m\u001b[0;34m\u001b[0m\u001b[0;34m\u001b[0m\u001b[0m\n\u001b[1;32m      4\u001b[0m \u001b[0;32mimport\u001b[0m \u001b[0mmatplotlib\u001b[0m\u001b[0;34m.\u001b[0m\u001b[0mpyplot\u001b[0m \u001b[0;32mas\u001b[0m \u001b[0mplt\u001b[0m\u001b[0;34m\u001b[0m\u001b[0;34m\u001b[0m\u001b[0m\n\u001b[0;32m----> 5\u001b[0;31m \u001b[0;32mfrom\u001b[0m \u001b[0mpyscf\u001b[0m \u001b[0;32mimport\u001b[0m \u001b[0mgto\u001b[0m\u001b[0;34m,\u001b[0m \u001b[0mscf\u001b[0m\u001b[0;34m,\u001b[0m \u001b[0mao2mo\u001b[0m\u001b[0;34m\u001b[0m\u001b[0;34m\u001b[0m\u001b[0m\n\u001b[0m\u001b[1;32m      6\u001b[0m \u001b[0;32mfrom\u001b[0m \u001b[0mopenfermion\u001b[0m \u001b[0;32mimport\u001b[0m \u001b[0mMolecularData\u001b[0m\u001b[0;34m\u001b[0m\u001b[0;34m\u001b[0m\u001b[0m\n\u001b[1;32m      7\u001b[0m \u001b[0;32mfrom\u001b[0m \u001b[0mopenfermion\u001b[0m\u001b[0;34m.\u001b[0m\u001b[0mtransforms\u001b[0m \u001b[0;32mimport\u001b[0m \u001b[0mget_fermion_operator\u001b[0m\u001b[0;34m,\u001b[0m \u001b[0mjordan_wigner\u001b[0m\u001b[0;34m\u001b[0m\u001b[0;34m\u001b[0m\u001b[0m\n",
            "\u001b[0;31mModuleNotFoundError\u001b[0m: No module named 'pyscf'",
            "",
            "\u001b[0;31m---------------------------------------------------------------------------\u001b[0;32m\nNOTE: If your import is failing due to a missing package, you can\nmanually install dependencies using either !pip or !apt.\n\nTo view examples of installing some common dependencies, click the\n\"Open Examples\" button below.\n\u001b[0;31m---------------------------------------------------------------------------\u001b[0m\n"
          ]
        }
      ],
      "source": [
        "import numpy as np\n",
        "import pennylane as qml\n",
        "from pennylane import qchem\n",
        "import matplotlib.pyplot as plt\n",
        "from pyscf import gto, scf, ao2mo\n",
        "from openfermion import MolecularData\n",
        "from openfermion.transforms import get_fermion_operator, jordan_wigner\n",
        "from openfermionpyscf import generate_molecular_hamiltonian\n",
        "\n",
        "# Range of bond lengths for Si2 in Angstroms\n",
        "r_range = np.arange(2.0, 5.0, 0.5)  # Modify the bond length range as needed\n",
        "energies = []  # List to store the energies at different bond lengths\n",
        "\n",
        "# Helper function to generate molecular Hamiltonian from PySCF and OpenFermion\n",
        "def generate_hamiltonian(bond_length):\n",
        "    # Build the Si2 molecule using PySCF\n",
        "    mol = gto.M(atom=f\"Si 0 0 0; Si 0 0 {bond_length}\", basis=\"sto-3g\", unit=\"Angstrom\")\n",
        "    mf = scf.RHF(mol)  # Restricted Hartree-Fock calculation\n",
        "    mf.kernel()  # Run the SCF calculation\n",
        "\n",
        "    # Use OpenFermion to create MolecularData\n",
        "    molecule_of = MolecularData(\n",
        "        geometry=[(\"Si\", (0, 0, 0)), (\"Si\", (0, 0, bond_length))],\n",
        "        basis=\"sto-3g\",\n",
        "        charge=0,\n",
        "        multiplicity=1\n",
        "    )\n",
        "\n",
        "    # Run the PySCF calculation with OpenFermion and update the molecular data object\n",
        "    molecule_of = generate_molecular_hamiltonian(molecule_of, run_scf=True)\n",
        "\n",
        "    # Get the Fermionic Hamiltonian and map it to qubits using Jordan-Wigner transformation\n",
        "    fermionic_hamiltonian = molecule_of.get_molecular_hamiltonian()\n",
        "    qubit_hamiltonian = jordan_wigner(get_fermion_operator(fermionic_hamiltonian))\n",
        "\n",
        "    # Convert the qubit Hamiltonian into a format usable by PennyLane\n",
        "    H = qml.utils.sparse_hamiltonian(qubit_hamiltonian)\n",
        "\n",
        "    # Number of qubits is the number of molecular orbitals in the active space\n",
        "    qubits = molecule_of.n_qubits\n",
        "\n",
        "    # Nuclear repulsion energy\n",
        "    e_core = mol.energy_nuc()\n",
        "\n",
        "    return H, qubits, e_core\n",
        "\n",
        "# Define VQE optimization loop for a given bond length\n",
        "def run_vqe(H, qubits):\n",
        "    # Generate single and double excitations for UCCSD ansatz\n",
        "    hf_state = qchem.hf_state(28, qubits)  # 28 electrons for Si2\n",
        "    singles, doubles = qchem.excitations(28, qubits)\n",
        "    s_wires, d_wires = qchem.excitations_to_wires(singles, doubles)\n",
        "\n",
        "    # Define the quantum device\n",
        "    dev = qml.device(\"default.qubit\", wires=qubits)\n",
        "\n",
        "    # Define the quantum circuit for UCCSD ansatz\n",
        "    def circuit(params, wires, s_wires, d_wires, hf):\n",
        "        qml.UCCSD(params, wires=wires, s_wires=s_wires, d_wires=d_wires, hf_state=hf)\n",
        "\n",
        "    # Initial parameters (zeroed)\n",
        "    params = np.zeros(len(singles) + len(doubles))\n",
        "\n",
        "    # Define the VQE cost function\n",
        "    @qml.qnode(dev)\n",
        "    def cost_fn(params):\n",
        "        circuit(params, wires=range(qubits), s_wires=s_wires, d_wires=d_wires, hf=hf_state)\n",
        "        return qml.expval(H)\n",
        "\n",
        "    # VQE optimizer (SPSA for noisy optimization)\n",
        "    opt = qml.SPSAOptimizer(maxiter=100)\n",
        "    prev_energy = cost_fn(params)\n",
        "\n",
        "    for i in range(100):  # Run optimization for 100 steps\n",
        "        params, energy = opt.step_and_cost(cost_fn, params)\n",
        "        if np.abs(energy - prev_energy) < 1e-6:  # Convergence criterion\n",
        "            break\n",
        "        prev_energy = energy\n",
        "\n",
        "    return energy\n",
        "\n",
        "# Iterate over different bond lengths and compute the energies\n",
        "for r in r_range:\n",
        "    print(f\"Calculating for bond length: {r:.2f} Å\")\n",
        "\n",
        "    # Generate the molecular Hamiltonian using PySCF and OpenFermion\n",
        "    H, qubits, e_core = generate_hamiltonian(r)\n",
        "\n",
        "    # Run VQE to find the ground state energy\n",
        "    energy = run_vqe(H, qubits)\n",
        "\n",
        "    # Add the nuclear repulsion energy to the computed VQE energy\n",
        "    total_energy = energy + e_core\n",
        "    energies.append(total_energy)\n",
        "\n",
        "    print(f\"Final energy for bond length {r:.2f} Å: {total_energy:.6f} Hartree\")\n",
        "\n",
        "# Plot the potential energy surface (PES)\n",
        "plt.figure(figsize=(8, 6))\n",
        "plt.plot(r_range, energies, 'o-', label='Ground State Energy')\n",
        "plt.xlabel('Bond Length (Å)')\n",
        "plt.ylabel('Energy (Hartree)')\n",
        "plt.title('Potential Energy Surface for Si2')\n",
        "plt.legend()\n",
        "plt.grid(True)\n",
        "plt.show()\n"
      ]
    },
    {
      "cell_type": "code",
      "execution_count": 4,
      "metadata": {
        "colab": {
          "base_uri": "https://localhost:8080/",
          "height": 385
        },
        "id": "affy2vPjc8-1",
        "outputId": "9078a059-f8dd-42db-c16a-0dfcbcab0e5b"
      },
      "outputs": [
        {
          "ename": "ModuleNotFoundError",
          "evalue": "No module named 'pyscf'",
          "output_type": "error",
          "traceback": [
            "\u001b[0;31m---------------------------------------------------------------------------\u001b[0m",
            "\u001b[0;31mModuleNotFoundError\u001b[0m                       Traceback (most recent call last)",
            "\u001b[0;32m<ipython-input-4-dd99781e978e>\u001b[0m in \u001b[0;36m<cell line: 5>\u001b[0;34m()\u001b[0m\n\u001b[1;32m      3\u001b[0m \u001b[0;32mfrom\u001b[0m \u001b[0mpennylane\u001b[0m \u001b[0;32mimport\u001b[0m \u001b[0mqchem\u001b[0m\u001b[0;34m\u001b[0m\u001b[0;34m\u001b[0m\u001b[0m\n\u001b[1;32m      4\u001b[0m \u001b[0;32mimport\u001b[0m \u001b[0mmatplotlib\u001b[0m\u001b[0;34m.\u001b[0m\u001b[0mpyplot\u001b[0m \u001b[0;32mas\u001b[0m \u001b[0mplt\u001b[0m\u001b[0;34m\u001b[0m\u001b[0;34m\u001b[0m\u001b[0m\n\u001b[0;32m----> 5\u001b[0;31m \u001b[0;32mfrom\u001b[0m \u001b[0mpyscf\u001b[0m \u001b[0;32mimport\u001b[0m \u001b[0mgto\u001b[0m\u001b[0;34m,\u001b[0m \u001b[0mscf\u001b[0m\u001b[0;34m,\u001b[0m \u001b[0mao2mo\u001b[0m\u001b[0;34m\u001b[0m\u001b[0;34m\u001b[0m\u001b[0m\n\u001b[0m\u001b[1;32m      6\u001b[0m \u001b[0;32mfrom\u001b[0m \u001b[0mopenfermion\u001b[0m \u001b[0;32mimport\u001b[0m \u001b[0mMolecularData\u001b[0m\u001b[0;34m\u001b[0m\u001b[0;34m\u001b[0m\u001b[0m\n\u001b[1;32m      7\u001b[0m \u001b[0;32mfrom\u001b[0m \u001b[0mopenfermion\u001b[0m\u001b[0;34m.\u001b[0m\u001b[0mtransforms\u001b[0m \u001b[0;32mimport\u001b[0m \u001b[0mget_fermion_operator\u001b[0m\u001b[0;34m,\u001b[0m \u001b[0mjordan_wigner\u001b[0m\u001b[0;34m\u001b[0m\u001b[0;34m\u001b[0m\u001b[0m\n",
            "\u001b[0;31mModuleNotFoundError\u001b[0m: No module named 'pyscf'",
            "",
            "\u001b[0;31m---------------------------------------------------------------------------\u001b[0;32m\nNOTE: If your import is failing due to a missing package, you can\nmanually install dependencies using either !pip or !apt.\n\nTo view examples of installing some common dependencies, click the\n\"Open Examples\" button below.\n\u001b[0;31m---------------------------------------------------------------------------\u001b[0m\n"
          ]
        }
      ],
      "source": [
        "import numpy as np\n",
        "import pennylane as qml\n",
        "from pennylane import qchem\n",
        "import matplotlib.pyplot as plt\n",
        "from pyscf import gto, scf, ao2mo\n",
        "from openfermion import MolecularData\n",
        "from openfermion.transforms import get_fermion_operator, jordan_wigner\n",
        "from scipy.interpolate import make_interp_spline\n",
        "\n",
        "# Range of bond lengths for Si2 in Angstroms\n",
        "r_range = np.arange(2.0, 5.5, 0.25)\n",
        "energies = []\n",
        "\n",
        "# Helper function to generate molecular Hamiltonian\n",
        "def generate_hamiltonian(bond_length):\n",
        "    try:\n",
        "        # Define the molecule\n",
        "        mol = gto.M(atom=f\"Si 0 0 0; Si 0 0 {bond_length}\", basis=\"sto-3g\", unit=\"Angstrom\")\n",
        "        mf = scf.RHF(mol)\n",
        "        scf_energy = mf.kernel()\n",
        "\n",
        "        if scf_energy is None:\n",
        "            raise RuntimeError(f\"SCF did not converge for bond length {bond_length:.2f} Å\")\n",
        "\n",
        "        # Get number of molecular orbitals\n",
        "        nmo = mf.mo_coeff.shape[1]\n",
        "        print(f\"Number of molecular orbitals: {nmo}\")\n",
        "\n",
        "        # Get one-electron integrals in molecular orbital basis\n",
        "        h1 = mf.mo_coeff.T @ mf.get_hcore() @ mf.mo_coeff\n",
        "\n",
        "        # Get two-electron integrals in molecular orbital basis\n",
        "        eri_mo = ao2mo.kernel(mol, mf.mo_coeff)\n",
        "\n",
        "        # Reshape the two-electron integrals dynamically\n",
        "        eri_mo = eri_mo.reshape((nmo, nmo, nmo, nmo))\n",
        "\n",
        "        # Get the nuclear repulsion energy\n",
        "        e_core = mol.energy_nuc()\n",
        "\n",
        "        # Create OpenFermion MolecularData object\n",
        "        molecule_of = MolecularData(\n",
        "            geometry=[(\"Si\", (0, 0, 0)), (\"Si\", (0, 0, bond_length))],\n",
        "            basis=\"sto-3g\", charge=0, multiplicity=1\n",
        "        )\n",
        "\n",
        "        molecule_of.one_body_integrals = h1\n",
        "        molecule_of.two_body_integrals = eri_mo\n",
        "\n",
        "        # Generate fermionic Hamiltonian\n",
        "        fermionic_hamiltonian = molecule_of.get_molecular_hamiltonian()\n",
        "\n",
        "        # Convert fermionic Hamiltonian to qubit Hamiltonian using Jordan-Wigner\n",
        "        qubit_hamiltonian = jordan_wigner(get_fermion_operator(fermionic_hamiltonian))\n",
        "\n",
        "        # Convert qubit Hamiltonian to sparse matrix form for PennyLane\n",
        "        H = qml.utils.sparse_hamiltonian(qubit_hamiltonian)\n",
        "        qubits = molecule_of.n_qubits\n",
        "\n",
        "        return H, qubits, e_core\n",
        "\n",
        "    except Exception as e:\n",
        "        print(f\"{bond_length:.2f} Å: {e}\")\n",
        "        return None, None, None\n",
        "\n",
        "# Define VQE optimization loop\n",
        "def run_vqe(H, qubits):\n",
        "    try:\n",
        "        num_electrons = 28  # Silicon atom has 14 electrons, Si2 has 28 electrons\n",
        "        hf_state = qchem.hf_state(num_electrons, qubits)\n",
        "        singles, doubles = qchem.excitations(num_electrons, qubits)\n",
        "        s_wires, d_wires = qchem.excitations_to_wires(singles, doubles)\n",
        "\n",
        "        dev = qml.device(\"default.qubit\", wires=qubits)\n",
        "\n",
        "        def circuit(params, wires, s_wires, d_wires, hf):\n",
        "            qml.UCCSD(params, wires=wires, s_wires=s_wires, d_wires=d_wires, hf_state=hf)\n",
        "\n",
        "        params = np.random.normal(0, 0.01, len(singles) + len(doubles))\n",
        "\n",
        "        @qml.qnode(dev)\n",
        "        def cost_fn(params):\n",
        "            circuit(params, wires=range(qubits), s_wires=s_wires, d_wires=d_wires, hf=hf_state)\n",
        "            return qml.expval(H)\n",
        "\n",
        "        # VQE optimizer\n",
        "        opt = qml.SPSAOptimizer(maxiter=100)\n",
        "        prev_energy = cost_fn(params)\n",
        "\n",
        "        for i in range(100):\n",
        "            params, energy = opt.step_and_cost(cost_fn, params)\n",
        "            if np.abs(energy - prev_energy) < 1e-6:\n",
        "                break\n",
        "            prev_energy = energy\n",
        "\n",
        "        return energy\n",
        "\n",
        "    except Exception as e:\n",
        "        print(f\"Error in VQE optimization: {e}\")\n",
        "        return None\n",
        "\n",
        "# Iterate over bond lengths and collect energies\n",
        "for r in r_range:\n",
        "    print(f\"Calculating for bond length: {r:.2f} Å\")\n",
        "    H, qubits, e_core = generate_hamiltonian(r)\n",
        "\n",
        "    if H is not None and qubits is not None and e_core is not None:\n",
        "        energy = run_vqe(H, qubits)\n",
        "        if energy is not None:\n",
        "            total_energy = energy + e_core\n",
        "            energies.append(total_energy)\n",
        "            print(f\"Final energy for bond length {r:.2f} Å: {total_energy:.6f} Hartree\")\n",
        "        else:\n",
        "            energies.append(None)\n",
        "    else:\n",
        "        energies.append(None)\n",
        "\n",
        "# Filter out None values from energies and corresponding r_range values\n",
        "filtered_r_range = np.array([r for r, e in zip(r_range, energies) if e is not None])\n",
        "filtered_energies = np.array([e for e in energies if e is not None])\n",
        "\n",
        "# Plot the PES if there are valid points\n",
        "if len(filtered_r_range) > 0:\n",
        "    if len(filtered_r_range) > 3:\n",
        "        x_smooth = np.linspace(filtered_r_range.min(), filtered_r_range.max(), 300)\n",
        "        spl = make_interp_spline(filtered_r_range, filtered_energies, k=3)\n",
        "        y_smooth = spl(x_smooth)\n",
        "        plt.plot(x_smooth, y_smooth, label='Smoothed Ground State Energy', color='blue')\n",
        "\n",
        "    plt.scatter(filtered_r_range, filtered_energies, color='red', label='Data Points')\n",
        "\n",
        "import numpy as np\n",
        "import matplotlib.pyplot as plt\n",
        "from scipy.interpolate import make_interp_spline\n",
        "\n",
        "# Manually importing the bond lengths and SCF energies from the data provided\n",
        "r_range = np.array([2.00, 2.25, 2.50, 2.75, 3.00, 3.25, 3.50, 3.75, 4.00, 4.25, 4.50, 4.75, 5.00, 5.25])\n",
        "energies = np.array([-570.914620758959, -570.958649996472, -570.913493763556, -570.852056780654,\n",
        "                     -570.788561117785, -570.730053463916, -570.679727864194, -570.638593113699,\n",
        "                     -570.606322744239, -570.581784290291, -570.563473326241, -570.549865257072,\n",
        "                     -570.53963831667, -570.531762459632])\n",
        "\n",
        "# Plotting the SCF energies against bond lengths\n",
        "x_smooth = np.linspace(r_range.min(), r_range.max(), 300)\n",
        "spl = make_interp_spline(r_range, energies, k=3)\n",
        "y_smooth = spl(x_smooth)\n",
        "\n",
        "plt.plot(x_smooth, y_smooth, label='Smoothed Ground State Energy', color='blue')\n",
        "plt.scatter(r_range, energies, color='red', label='Data Points')\n",
        "\n",
        "# Labeling the plot\n",
        "plt.xlabel('Bond Length (Å)')\n",
        "plt.ylabel('Energy (Hartree)')\n",
        "plt.title('Potential Energy Surface for Si2')\n",
        "plt.legend()\n",
        "plt.grid(True)\n",
        "\n",
        "# Show the plot\n",
        "plt.show()\n",
        "\n",
        "plt.show()\n"
      ]
    },
    {
      "cell_type": "code",
      "execution_count": null,
      "metadata": {
        "id": "lsoyxwW7sMU7"
      },
      "outputs": [],
      "source": []
    }
  ],
  "metadata": {
    "colab": {
      "provenance": []
    },
    "kernelspec": {
      "display_name": "Python 3",
      "name": "python3"
    },
    "language_info": {
      "name": "python"
    }
  },
  "nbformat": 4,
  "nbformat_minor": 0
}
